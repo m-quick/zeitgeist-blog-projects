{
 "cells": [
  {
   "cell_type": "code",
   "execution_count": 1,
   "metadata": {},
   "outputs": [
    {
     "name": "stdout",
     "output_type": "stream",
     "text": [
      "c:\\Users\\mquick\\Documents\\zeitgeist blog\\projects\\political_fragmentation\n"
     ]
    }
   ],
   "source": [
    "import os\n",
    "\n",
    "os.chdir(\"..\")\n",
    "\n",
    "print(os.getcwd())"
   ]
  },
  {
   "cell_type": "code",
   "execution_count": 2,
   "metadata": {},
   "outputs": [],
   "source": [
    "import re\n",
    "import pandas as pd\n",
    "import numpy as np\n",
    "import seaborn as sns\n",
    "import requests\n",
    "from bs4 import BeautifulSoup as bs\n",
    "from utils import GiniCalculator"
   ]
  },
  {
   "cell_type": "markdown",
   "metadata": {},
   "source": [
    "### Scrape and clean presidential election results data\n",
    "\n",
    "* Presidential elections:\n",
    "    * 2004\n",
    "    * 2010\n",
    "    * 2014\n",
    "    * 2019\n",
    "* Clean df schema:\n",
    "    * Year\n",
    "    * Region\n",
    "    * Candidate name\n",
    "    * Candidate votes (pct)\n",
    "    * Candidate votes (total)\n",
    "    * Total voters"
   ]
  },
  {
   "cell_type": "markdown",
   "metadata": {},
   "source": [
    "#### Get list of region names and codes"
   ]
  },
  {
   "cell_type": "code",
   "execution_count": 3,
   "metadata": {},
   "outputs": [
    {
     "data": {
      "text/plain": [
       "200"
      ]
     },
     "execution_count": 3,
     "metadata": {},
     "output_type": "execute_result"
    }
   ],
   "source": [
    "url = \"http://electionresources.org/ua/president.php?election=2019\"\n",
    "response = requests.get(url)\n",
    "response.status_code"
   ]
  },
  {
   "cell_type": "code",
   "execution_count": 4,
   "metadata": {},
   "outputs": [],
   "source": [
    "soup = bs(response.content)"
   ]
  },
  {
   "cell_type": "code",
   "execution_count": 5,
   "metadata": {},
   "outputs": [],
   "source": [
    "regions_list = soup.find(\"select\", {\"name\":\"region\"}).find_all(\"option\")"
   ]
  },
  {
   "cell_type": "code",
   "execution_count": 6,
   "metadata": {},
   "outputs": [],
   "source": [
    "regions_dict = {re.sub(r\"\\s{2,}\", \"\", region.string): region[\"value\"] for region in regions_list[1:]}"
   ]
  },
  {
   "cell_type": "markdown",
   "metadata": {},
   "source": [
    "#### Extract election results data"
   ]
  },
  {
   "cell_type": "code",
   "execution_count": 7,
   "metadata": {},
   "outputs": [],
   "source": [
    "BASE = \"http://electionresources.org/ua/president.php?\""
   ]
  },
  {
   "cell_type": "code",
   "execution_count": 8,
   "metadata": {},
   "outputs": [],
   "source": [
    "def parse_results_df(results_df: pd.DataFrame) -> list[dict]:\n",
    "    results_no_missing = results_df.dropna()\n",
    "    candidates_data = []\n",
    "    is_candidate = True\n",
    "    row_index = 0\n",
    "    while is_candidate:\n",
    "        row_index = row_index - 1\n",
    "        candidate_name = results_no_missing.iloc[row_index, 0]\n",
    "        candidate_votes = results_no_missing.iloc[row_index, 1]\n",
    "        candidate_vote_pct = results_no_missing.iloc[row_index, 2]\n",
    "        candidate_data = {\n",
    "            \"candidate_name\": candidate_name,\n",
    "            \"candidate_votes\": int(candidate_votes),\n",
    "            \"candidate_vote_pct\": float(candidate_vote_pct),\n",
    "            }\n",
    "        candidates_data.append(candidate_data)\n",
    "        is_candidate = results_no_missing.iloc[row_index-1, 0].lower() != \"candidate\"\n",
    "    return candidates_data"
   ]
  },
  {
   "cell_type": "code",
   "execution_count": 9,
   "metadata": {},
   "outputs": [],
   "source": [
    "elections = [2004, 2010, 2014, 2019]"
   ]
  },
  {
   "cell_type": "code",
   "execution_count": 10,
   "metadata": {},
   "outputs": [
    {
     "name": "stdout",
     "output_type": "stream",
     "text": [
      "2014 Autonomous Republic of Crimea\n",
      "2014 City of Sevastopol\n",
      "2019 Autonomous Republic of Crimea\n",
      "2019 City of Sevastopol\n"
     ]
    }
   ],
   "source": [
    "results = []\n",
    "\n",
    "for election in elections:\n",
    "    for region_name, region_code in regions_dict.items():\n",
    "        url = f\"{BASE}election={election}&region={region_code}\"\n",
    "        try:\n",
    "            tables = pd.read_html(url)\n",
    "            region_results = tables[-1]\n",
    "            candidates_data = parse_results_df(region_results)\n",
    "            for candidate in candidates_data:\n",
    "                candidate.update({\"region_name\": region_name, \"election\": election})\n",
    "            results.extend(candidates_data)\n",
    "        except:\n",
    "            print(election, region_name)"
   ]
  },
  {
   "cell_type": "code",
   "execution_count": 11,
   "metadata": {},
   "outputs": [],
   "source": [
    "results_df = pd.DataFrame(results)"
   ]
  },
  {
   "cell_type": "markdown",
   "metadata": {},
   "source": [
    "### Calculate Gini coefficients\n",
    "\n",
    "* Candidates by Gini score\n",
    "* Elections by weighted average Gini score"
   ]
  },
  {
   "cell_type": "code",
   "execution_count": 12,
   "metadata": {},
   "outputs": [],
   "source": [
    "calculator = GiniCalculator()"
   ]
  },
  {
   "cell_type": "code",
   "execution_count": 13,
   "metadata": {},
   "outputs": [],
   "source": [
    "candidate_gini_scores_df = calculator.gini_coeff_by_candidate(results_df, \n",
    "                                                              candidates_col=\"candidate_name\",\n",
    "                                                              election_year_col=\"election\",\n",
    "                                                              votes_pct_col=\"candidate_vote_pct\",\n",
    "                                                              votes_total_col=\"candidate_votes\"\n",
    "                                                              )"
   ]
  },
  {
   "cell_type": "markdown",
   "metadata": {},
   "source": [
    "#### By candidate"
   ]
  },
  {
   "cell_type": "code",
   "execution_count": 15,
   "metadata": {},
   "outputs": [],
   "source": [
    "candidate_gini_scores_df[\"rank\"] = candidate_gini_scores_df.groupby(\"election\", as_index=False)[\"candidate_votes\"].rank(ascending=False)"
   ]
  },
  {
   "cell_type": "code",
   "execution_count": 16,
   "metadata": {},
   "outputs": [],
   "source": [
    "candidate_gini_scores_df[\"winner\"] = candidate_gini_scores_df[\"rank\"].apply(lambda x: 1 if x == 1 else 0)"
   ]
  },
  {
   "cell_type": "code",
   "execution_count": 17,
   "metadata": {},
   "outputs": [
    {
     "data": {
      "text/html": [
       "<div>\n",
       "<style scoped>\n",
       "    .dataframe tbody tr th:only-of-type {\n",
       "        vertical-align: middle;\n",
       "    }\n",
       "\n",
       "    .dataframe tbody tr th {\n",
       "        vertical-align: top;\n",
       "    }\n",
       "\n",
       "    .dataframe thead th {\n",
       "        text-align: right;\n",
       "    }\n",
       "</style>\n",
       "<table border=\"1\" class=\"dataframe\">\n",
       "  <thead>\n",
       "    <tr style=\"text-align: right;\">\n",
       "      <th></th>\n",
       "      <th>election</th>\n",
       "      <th>candidate_name</th>\n",
       "      <th>gini_coeff</th>\n",
       "      <th>candidate_votes</th>\n",
       "      <th>rank</th>\n",
       "      <th>winner</th>\n",
       "    </tr>\n",
       "  </thead>\n",
       "  <tbody>\n",
       "    <tr>\n",
       "      <th>0</th>\n",
       "      <td>2004</td>\n",
       "      <td>Viktor Yushchenko</td>\n",
       "      <td>0.163231</td>\n",
       "      <td>15054353</td>\n",
       "      <td>1.0</td>\n",
       "      <td>1</td>\n",
       "    </tr>\n",
       "    <tr>\n",
       "      <th>1</th>\n",
       "      <td>2004</td>\n",
       "      <td>Viktor Yanukovych</td>\n",
       "      <td>0.205064</td>\n",
       "      <td>12808839</td>\n",
       "      <td>2.0</td>\n",
       "      <td>0</td>\n",
       "    </tr>\n",
       "    <tr>\n",
       "      <th>2</th>\n",
       "      <td>2010</td>\n",
       "      <td>Yulia Tymoshenko</td>\n",
       "      <td>0.191033</td>\n",
       "      <td>11565983</td>\n",
       "      <td>2.0</td>\n",
       "      <td>0</td>\n",
       "    </tr>\n",
       "  </tbody>\n",
       "</table>\n",
       "</div>"
      ],
      "text/plain": [
       "   election     candidate_name  gini_coeff  candidate_votes  rank  winner\n",
       "0      2004  Viktor Yushchenko    0.163231         15054353   1.0       1\n",
       "1      2004  Viktor Yanukovych    0.205064         12808839   2.0       0\n",
       "2      2010   Yulia Tymoshenko    0.191033         11565983   2.0       0"
      ]
     },
     "execution_count": 17,
     "metadata": {},
     "output_type": "execute_result"
    }
   ],
   "source": [
    "candidate_gini_scores_df.head(3)"
   ]
  },
  {
   "cell_type": "code",
   "execution_count": 18,
   "metadata": {},
   "outputs": [],
   "source": [
    "candidate_gini_scores_df[\"candidate_name_year\"] = candidate_gini_scores_df.apply(lambda x: f\"{x['candidate_name']}, {x['election']}\", axis=1)"
   ]
  },
  {
   "cell_type": "code",
   "execution_count": 19,
   "metadata": {},
   "outputs": [
    {
     "data": {
      "text/plain": [
       "<Axes: xlabel='gini_coeff', ylabel='candidate_name_year'>"
      ]
     },
     "execution_count": 19,
     "metadata": {},
     "output_type": "execute_result"
    },
    {
     "data": {
      "image/png": "[encoded data removed]",
      "text/plain": [
       "<Figure size 640x480 with 1 Axes>"
      ]
     },
     "metadata": {},
     "output_type": "display_data"
    }
   ],
   "source": [
    "sns.barplot(data=candidate_gini_scores_df[candidate_gini_scores_df[\"rank\"]<=2].sort_values(\"gini_coeff\", ascending=False),\n",
    "            x=\"gini_coeff\",\n",
    "            y=\"candidate_name_year\",\n",
    "            hue=\"winner\"\n",
    "            )"
   ]
  },
  {
   "cell_type": "markdown",
   "metadata": {},
   "source": [
    "#### By election"
   ]
  },
  {
   "cell_type": "code",
   "execution_count": 20,
   "metadata": {},
   "outputs": [],
   "source": [
    "election_gini_df = calculator.gini_coeff_by_election(candidate_gini_scores_df=candidate_gini_scores_df,\n",
    "                                                     group_by_cols = [\"election\"],\n",
    "                                                     votes_total_col = \"candidate_votes\"\n",
    "                                                     )"
   ]
  },
  {
   "cell_type": "code",
   "execution_count": 21,
   "metadata": {},
   "outputs": [
    {
     "data": {
      "text/plain": [
       "<Axes: xlabel='election'>"
      ]
     },
     "execution_count": 21,
     "metadata": {},
     "output_type": "execute_result"
    },
    {
     "data": {
      "image/png": "[encoded data removed]",
      "text/plain": [
       "<Figure size 640x480 with 1 Axes>"
      ]
     },
     "metadata": {},
     "output_type": "display_data"
    }
   ],
   "source": [
    "election_gini_df.plot.line(x=\"election\", y=\"gini_coeff\")"
   ]
  }
 ],
 "metadata": {
  "language_info": {
   "name": "python"
  }
 },
 "nbformat": 4,
 "nbformat_minor": 2
}
