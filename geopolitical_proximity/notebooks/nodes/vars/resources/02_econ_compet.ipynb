{
 "cells": [
  {
   "cell_type": "code",
   "execution_count": 1,
   "metadata": {},
   "outputs": [
    {
     "data": {
      "text/plain": [
       "'c:\\\\Users\\\\mquick\\\\Documents\\\\zeitgeist blog\\\\projects\\\\geopolitical_proximity'"
      ]
     },
     "execution_count": 1,
     "metadata": {},
     "output_type": "execute_result"
    }
   ],
   "source": [
    "import os\n",
    "\n",
    "os.chdir(\"../../../..\")\n",
    "\n",
    "os.getcwd()"
   ]
  },
  {
   "cell_type": "code",
   "execution_count": 2,
   "metadata": {},
   "outputs": [],
   "source": [
    "import pandas as pd\n",
    "import numpy as np\n",
    "import seaborn as sns\n",
    "from utils.types.variables import pct_world_exports, pct_world_gdp, pct_rd_spending\n",
    "from utils.tools.world_bank import WBDataHandler\n",
    "from utils.tools.impute import Imputer"
   ]
  },
  {
   "cell_type": "markdown",
   "metadata": {},
   "source": [
    "### % world GDP\n",
    "\n",
    "* [Source](https://tradingeconomics.com/north-korea/gdp) for PRK GDP estimates\n",
    "* RoW from World Bank"
   ]
  },
  {
   "cell_type": "code",
   "execution_count": 27,
   "metadata": {},
   "outputs": [],
   "source": [
    "gdp_code = \"NY.GDP.MKTP.CD\" # has Venezuela data, whereas NY.GDP.MKTP.CD has none"
   ]
  },
  {
   "cell_type": "code",
   "execution_count": 28,
   "metadata": {},
   "outputs": [],
   "source": [
    "gdp_handler = WBDataHandler(variable=pct_world_gdp)"
   ]
  },
  {
   "cell_type": "code",
   "execution_count": 29,
   "metadata": {},
   "outputs": [],
   "source": [
    "gdp_df = gdp_handler.get_data(indicator_code=gdp_code, from_year=1960, to_year=2023)"
   ]
  },
  {
   "cell_type": "code",
   "execution_count": 30,
   "metadata": {},
   "outputs": [],
   "source": [
    "wld_gdp_df = gdp_df.loc[gdp_df[\"countryiso3code\"]==\"WLD\", [\"date\", \"value\"]].rename(columns={\"value\":\"sum\"})\n",
    "gdp_df = gdp_df.merge(wld_gdp_df, on=\"date\", how=\"inner\")"
   ]
  },
  {
   "cell_type": "code",
   "execution_count": 31,
   "metadata": {},
   "outputs": [],
   "source": [
    "nodes_gdp_df = gdp_handler.keep_nodes_only(raw_indicator_df=gdp_df)"
   ]
  },
  {
   "cell_type": "code",
   "execution_count": 32,
   "metadata": {},
   "outputs": [
    {
     "data": {
      "text/html": [
       "<div>\n",
       "<style scoped>\n",
       "    .dataframe tbody tr th:only-of-type {\n",
       "        vertical-align: middle;\n",
       "    }\n",
       "\n",
       "    .dataframe tbody tr th {\n",
       "        vertical-align: top;\n",
       "    }\n",
       "\n",
       "    .dataframe thead th {\n",
       "        text-align: right;\n",
       "    }\n",
       "</style>\n",
       "<table border=\"1\" class=\"dataframe\">\n",
       "  <thead>\n",
       "    <tr style=\"text-align: right;\">\n",
       "      <th></th>\n",
       "      <th>date</th>\n",
       "      <th>value</th>\n",
       "      <th>is_imputed</th>\n",
       "      <th>sum</th>\n",
       "      <th>node_id</th>\n",
       "      <th>iso3</th>\n",
       "    </tr>\n",
       "  </thead>\n",
       "  <tbody>\n",
       "    <tr>\n",
       "      <th>0</th>\n",
       "      <td>1960</td>\n",
       "      <td>NaN</td>\n",
       "      <td>NaN</td>\n",
       "      <td>1.364504e+12</td>\n",
       "      <td>1</td>\n",
       "      <td>AFG</td>\n",
       "    </tr>\n",
       "    <tr>\n",
       "      <th>1</th>\n",
       "      <td>1961</td>\n",
       "      <td>NaN</td>\n",
       "      <td>NaN</td>\n",
       "      <td>1.439319e+12</td>\n",
       "      <td>1</td>\n",
       "      <td>AFG</td>\n",
       "    </tr>\n",
       "    <tr>\n",
       "      <th>2</th>\n",
       "      <td>1962</td>\n",
       "      <td>NaN</td>\n",
       "      <td>NaN</td>\n",
       "      <td>1.542845e+12</td>\n",
       "      <td>1</td>\n",
       "      <td>AFG</td>\n",
       "    </tr>\n",
       "  </tbody>\n",
       "</table>\n",
       "</div>"
      ],
      "text/plain": [
       "   date  value is_imputed           sum  node_id iso3\n",
       "0  1960    NaN        NaN  1.364504e+12        1  AFG\n",
       "1  1961    NaN        NaN  1.439319e+12        1  AFG\n",
       "2  1962    NaN        NaN  1.542845e+12        1  AFG"
      ]
     },
     "execution_count": 32,
     "metadata": {},
     "output_type": "execute_result"
    }
   ],
   "source": [
    "nodes_gdp_df.head(3)"
   ]
  },
  {
   "cell_type": "code",
   "execution_count": 33,
   "metadata": {},
   "outputs": [],
   "source": [
    "nodes_gdp_df[\"value_pct\"] = (nodes_gdp_df[\"value\"] / nodes_gdp_df[\"sum\"]) * 100"
   ]
  },
  {
   "cell_type": "code",
   "execution_count": 34,
   "metadata": {},
   "outputs": [],
   "source": [
    "imputer = Imputer(group_by_col=\"iso3\")"
   ]
  },
  {
   "cell_type": "code",
   "execution_count": 35,
   "metadata": {},
   "outputs": [],
   "source": [
    "gdp_missing = imputer.pct_completeness_by_group(dataframe=nodes_gdp_df, value_col=\"value_pct\")"
   ]
  },
  {
   "cell_type": "code",
   "execution_count": 43,
   "metadata": {},
   "outputs": [
    {
     "data": {
      "text/html": [
       "<div>\n",
       "<style scoped>\n",
       "    .dataframe tbody tr th:only-of-type {\n",
       "        vertical-align: middle;\n",
       "    }\n",
       "\n",
       "    .dataframe tbody tr th {\n",
       "        vertical-align: top;\n",
       "    }\n",
       "\n",
       "    .dataframe thead th {\n",
       "        text-align: right;\n",
       "    }\n",
       "</style>\n",
       "<table border=\"1\" class=\"dataframe\">\n",
       "  <thead>\n",
       "    <tr style=\"text-align: right;\">\n",
       "      <th></th>\n",
       "      <th>iso3</th>\n",
       "      <th>complete_pct</th>\n",
       "    </tr>\n",
       "  </thead>\n",
       "  <tbody>\n",
       "    <tr>\n",
       "      <th>0</th>\n",
       "      <td>AFG</td>\n",
       "      <td>0.36</td>\n",
       "    </tr>\n",
       "    <tr>\n",
       "      <th>1</th>\n",
       "      <td>AGO</td>\n",
       "      <td>0.48</td>\n",
       "    </tr>\n",
       "    <tr>\n",
       "      <th>2</th>\n",
       "      <td>ALB</td>\n",
       "      <td>0.62</td>\n",
       "    </tr>\n",
       "    <tr>\n",
       "      <th>3</th>\n",
       "      <td>AND</td>\n",
       "      <td>0.84</td>\n",
       "    </tr>\n",
       "    <tr>\n",
       "      <th>4</th>\n",
       "      <td>ARE</td>\n",
       "      <td>0.84</td>\n",
       "    </tr>\n",
       "    <tr>\n",
       "      <th>...</th>\n",
       "      <td>...</td>\n",
       "      <td>...</td>\n",
       "    </tr>\n",
       "    <tr>\n",
       "      <th>185</th>\n",
       "      <td>VEN</td>\n",
       "      <td>0.86</td>\n",
       "    </tr>\n",
       "    <tr>\n",
       "      <th>186</th>\n",
       "      <td>VNM</td>\n",
       "      <td>0.61</td>\n",
       "    </tr>\n",
       "    <tr>\n",
       "      <th>187</th>\n",
       "      <td>VUT</td>\n",
       "      <td>0.70</td>\n",
       "    </tr>\n",
       "    <tr>\n",
       "      <th>188</th>\n",
       "      <td>WSM</td>\n",
       "      <td>0.84</td>\n",
       "    </tr>\n",
       "    <tr>\n",
       "      <th>189</th>\n",
       "      <td>YEM</td>\n",
       "      <td>0.45</td>\n",
       "    </tr>\n",
       "  </tbody>\n",
       "</table>\n",
       "<p>95 rows × 2 columns</p>\n",
       "</div>"
      ],
      "text/plain": [
       "    iso3  complete_pct\n",
       "0    AFG          0.36\n",
       "1    AGO          0.48\n",
       "2    ALB          0.62\n",
       "3    AND          0.84\n",
       "4    ARE          0.84\n",
       "..   ...           ...\n",
       "185  VEN          0.86\n",
       "186  VNM          0.61\n",
       "187  VUT          0.70\n",
       "188  WSM          0.84\n",
       "189  YEM          0.45\n",
       "\n",
       "[95 rows x 2 columns]"
      ]
     },
     "execution_count": 43,
     "metadata": {},
     "output_type": "execute_result"
    }
   ],
   "source": [
    "gdp_missing[gdp_missing[\"complete_pct\"]<1]"
   ]
  },
  {
   "cell_type": "code",
   "execution_count": 36,
   "metadata": {},
   "outputs": [],
   "source": [
    "interpolated_gdp_df = imputer.interpolate_values(dataframe=nodes_gdp_df)"
   ]
  },
  {
   "cell_type": "code",
   "execution_count": 37,
   "metadata": {},
   "outputs": [],
   "source": [
    "gdp_carried_values = imputer.carry_values(dataframe=interpolated_gdp_df, value_col=\"value_pct\", max_consec=5)"
   ]
  },
  {
   "cell_type": "code",
   "execution_count": 38,
   "metadata": {},
   "outputs": [],
   "source": [
    "interpolated_gdp_df[\"value_pct_carried\"] = gdp_carried_values"
   ]
  },
  {
   "cell_type": "code",
   "execution_count": 39,
   "metadata": {},
   "outputs": [],
   "source": [
    "interpolated_gdp_df[\"value_pct_extrapol\"] = imputer.extrapolate_values(dataframe=interpolated_gdp_df, \n",
    "                                                                       x_col=\"date\", \n",
    "                                                                       y_col=\"value_pct_carried\", \n",
    "                                                                       floor=0,\n",
    "                                                                       ceiling=100\n",
    "                                                                       )"
   ]
  },
  {
   "cell_type": "code",
   "execution_count": 55,
   "metadata": {},
   "outputs": [],
   "source": [
    "gdp_missing = imputer.pct_completeness_by_group(dataframe=interpolated_gdp_df, value_col=\"value_pct_extrapol\")"
   ]
  },
  {
   "cell_type": "code",
   "execution_count": 56,
   "metadata": {},
   "outputs": [
    {
     "data": {
      "text/html": [
       "<div>\n",
       "<style scoped>\n",
       "    .dataframe tbody tr th:only-of-type {\n",
       "        vertical-align: middle;\n",
       "    }\n",
       "\n",
       "    .dataframe tbody tr th {\n",
       "        vertical-align: top;\n",
       "    }\n",
       "\n",
       "    .dataframe thead th {\n",
       "        text-align: right;\n",
       "    }\n",
       "</style>\n",
       "<table border=\"1\" class=\"dataframe\">\n",
       "  <thead>\n",
       "    <tr style=\"text-align: right;\">\n",
       "      <th></th>\n",
       "      <th>iso3</th>\n",
       "      <th>complete_pct</th>\n",
       "    </tr>\n",
       "  </thead>\n",
       "  <tbody>\n",
       "    <tr>\n",
       "      <th>141</th>\n",
       "      <td>PRK</td>\n",
       "      <td>0.0</td>\n",
       "    </tr>\n",
       "  </tbody>\n",
       "</table>\n",
       "</div>"
      ],
      "text/plain": [
       "    iso3  complete_pct\n",
       "141  PRK           0.0"
      ]
     },
     "execution_count": 56,
     "metadata": {},
     "output_type": "execute_result"
    }
   ],
   "source": [
    "gdp_missing[gdp_missing[\"complete_pct\"]<1]"
   ]
  },
  {
   "cell_type": "code",
   "execution_count": 40,
   "metadata": {},
   "outputs": [],
   "source": [
    "prk_gdp = pd.read_csv(\"./notebooks/nodes/data/PRK_GDP_estimates.csv\")"
   ]
  },
  {
   "cell_type": "code",
   "execution_count": 41,
   "metadata": {},
   "outputs": [],
   "source": [
    "prk_gdp[\"GDP\"] = prk_gdp[\"GDP\"] * 1e9"
   ]
  },
  {
   "cell_type": "code",
   "execution_count": 42,
   "metadata": {},
   "outputs": [],
   "source": [
    "interpolated_gdp_df = interpolated_gdp_df.loc[interpolated_gdp_df[\"iso3\"]!=\"PRK\"]"
   ]
  },
  {
   "cell_type": "code",
   "execution_count": 43,
   "metadata": {},
   "outputs": [],
   "source": [
    "prk_multiindex = pd.MultiIndex.from_product(iterables=[[year for year in range(1960, 2024)], [\"PRK\" ]], names=[\"date\", \"iso3\"])"
   ]
  },
  {
   "cell_type": "code",
   "execution_count": 44,
   "metadata": {},
   "outputs": [],
   "source": [
    "prk_gdp = prk_gdp\\\n",
    "    .assign(iso3 = \"PRK\")\\\n",
    "    .set_index([\"date\", \"iso3\"])\\\n",
    "    .reindex(prk_multiindex)\\\n",
    "    .reset_index()\\\n",
    "    .assign(node_id = 90)\\\n",
    "    .merge(interpolated_gdp_df[[\"date\", \"sum\"]].drop_duplicates(), on=\"date\", how=\"left\")\n",
    "    \n",
    "prk_gdp.loc[prk_gdp[\"GDP\"].notna(), \"is_imputed\"] = False"
   ]
  },
  {
   "cell_type": "code",
   "execution_count": 45,
   "metadata": {},
   "outputs": [],
   "source": [
    "prk_gdp[\"value_pct_extrapol\"] = (prk_gdp[\"GDP\"] / prk_gdp[\"sum\"]) * 100"
   ]
  },
  {
   "cell_type": "code",
   "execution_count": 46,
   "metadata": {},
   "outputs": [],
   "source": [
    "all_nodes_gdp_df = pd.concat([interpolated_gdp_df, prk_gdp.drop(\"GDP\", axis=1)])"
   ]
  },
  {
   "cell_type": "code",
   "execution_count": 47,
   "metadata": {},
   "outputs": [],
   "source": [
    "prk_vals = all_nodes_gdp_df.loc[all_nodes_gdp_df[\"iso3\"]==\"PRK\"]"
   ]
  },
  {
   "cell_type": "code",
   "execution_count": 48,
   "metadata": {},
   "outputs": [],
   "source": [
    "all_nodes_gdp_df.loc[all_nodes_gdp_df[\"iso3\"]==\"PRK\", \"value_pct_extrapol\"] = imputer.carry_values(prk_vals, \"value_pct_extrapol\", max_consec=5)"
   ]
  },
  {
   "cell_type": "code",
   "execution_count": 49,
   "metadata": {},
   "outputs": [],
   "source": [
    "all_nodes_gdp_df.loc[all_nodes_gdp_df[\"iso3\"]==\"PRK\", \"value_pct_extrapol\"] = imputer.extrapolate_values(dataframe=all_nodes_gdp_df.loc[all_nodes_gdp_df[\"iso3\"]==\"PRK\"],\n",
    "                           x_col=\"date\",\n",
    "                           y_col=\"value_pct_extrapol\",\n",
    "                           floor=0\n",
    "                           )"
   ]
  },
  {
   "cell_type": "code",
   "execution_count": 91,
   "metadata": {},
   "outputs": [],
   "source": [
    "gdp_missing = imputer.pct_completeness_by_group(dataframe=all_nodes_gdp_df, value_col=\"value_pct_extrapol\")"
   ]
  },
  {
   "cell_type": "code",
   "execution_count": 92,
   "metadata": {},
   "outputs": [
    {
     "data": {
      "text/plain": [
       "np.float64(1.0)"
      ]
     },
     "execution_count": 92,
     "metadata": {},
     "output_type": "execute_result"
    }
   ],
   "source": [
    "gdp_missing[\"complete_pct\"].min()"
   ]
  },
  {
   "cell_type": "code",
   "execution_count": 93,
   "metadata": {},
   "outputs": [],
   "source": [
    "all_nodes_gdp_df[\"value_norm\"] = gdp_handler.normalise_values(dataframe=all_nodes_gdp_df, \n",
    "                                                              group_by_col=\"date\",\n",
    "                                                              raw_values_col=\"value_pct_extrapol\", \n",
    "                                                              apply_log=True)"
   ]
  },
  {
   "cell_type": "code",
   "execution_count": 95,
   "metadata": {},
   "outputs": [
    {
     "data": {
      "text/plain": [
       "<Axes: xlabel='date', ylabel='value_norm'>"
      ]
     },
     "execution_count": 95,
     "metadata": {},
     "output_type": "execute_result"
    },
    {
     "data": {
      "image/png": "[encoded data removed]",
      "text/plain": [
       "<Figure size 640x480 with 1 Axes>"
      ]
     },
     "metadata": {},
     "output_type": "display_data"
    }
   ],
   "source": [
    "sns.lineplot(data=all_nodes_gdp_df[all_nodes_gdp_df[\"iso3\"].isin([\"CHN\", \"USA\", \"GBR\", \"FRA\", \"IND\", \"JPN\", \"RUS\", \"UKR\"])],\n",
    "             x=\"date\", y=\"value_norm\", hue=\"iso3\"\n",
    "             )"
   ]
  },
  {
   "cell_type": "code",
   "execution_count": 98,
   "metadata": {},
   "outputs": [],
   "source": [
    "all_nodes_gdp_df = all_nodes_gdp_df.drop(\"value\", axis=1).rename(columns={\"value_pct_extrapol\":\"value\"})"
   ]
  },
  {
   "cell_type": "code",
   "execution_count": 99,
   "metadata": {},
   "outputs": [],
   "source": [
    "upload_gdp_df = gdp_handler.format_df_for_upload(dataframe=all_nodes_gdp_df)"
   ]
  },
  {
   "cell_type": "code",
   "execution_count": 105,
   "metadata": {},
   "outputs": [],
   "source": [
    "# gdp_handler.upload_to_bq(dataframe=upload_gdp_df)"
   ]
  },
  {
   "cell_type": "markdown",
   "metadata": {},
   "source": [
    "### % of world exports"
   ]
  },
  {
   "cell_type": "code",
   "execution_count": 106,
   "metadata": {},
   "outputs": [],
   "source": [
    "exports_code = \"NE.EXP.GNFS.CD\""
   ]
  },
  {
   "cell_type": "code",
   "execution_count": 142,
   "metadata": {},
   "outputs": [],
   "source": [
    "exports_handler = WBDataHandler(pct_world_exports)"
   ]
  },
  {
   "cell_type": "code",
   "execution_count": 143,
   "metadata": {},
   "outputs": [],
   "source": [
    "exports_df = exports_handler.get_data(indicator_code=exports_code, from_year=1970, to_year=2023)"
   ]
  },
  {
   "cell_type": "code",
   "execution_count": 144,
   "metadata": {},
   "outputs": [],
   "source": [
    "wld_gdp_df = exports_df.loc[exports_df[\"countryiso3code\"]==\"WLD\", [\"date\", \"value\"]].rename(columns={\"value\":\"sum\"})\n",
    "exports_df = exports_df.merge(wld_gdp_df, on=\"date\", how=\"inner\")"
   ]
  },
  {
   "cell_type": "code",
   "execution_count": 145,
   "metadata": {},
   "outputs": [],
   "source": [
    "nodes_exports_df = exports_handler.keep_nodes_only(raw_indicator_df=exports_df)"
   ]
  },
  {
   "cell_type": "code",
   "execution_count": 146,
   "metadata": {},
   "outputs": [],
   "source": [
    "nodes_exports_df[\"value_pct\"] = (nodes_exports_df[\"value\"] / nodes_exports_df[\"sum\"]) * 100"
   ]
  },
  {
   "cell_type": "code",
   "execution_count": 147,
   "metadata": {},
   "outputs": [],
   "source": [
    "imputer = Imputer(group_by_col=\"iso3\")"
   ]
  },
  {
   "cell_type": "code",
   "execution_count": 148,
   "metadata": {},
   "outputs": [],
   "source": [
    "exports_missing = imputer.pct_completeness_by_group(dataframe=nodes_exports_df, value_col=\"value_pct\")"
   ]
  },
  {
   "cell_type": "code",
   "execution_count": 149,
   "metadata": {},
   "outputs": [
    {
     "data": {
      "text/html": [
       "<div>\n",
       "<style scoped>\n",
       "    .dataframe tbody tr th:only-of-type {\n",
       "        vertical-align: middle;\n",
       "    }\n",
       "\n",
       "    .dataframe tbody tr th {\n",
       "        vertical-align: top;\n",
       "    }\n",
       "\n",
       "    .dataframe thead th {\n",
       "        text-align: right;\n",
       "    }\n",
       "</style>\n",
       "<table border=\"1\" class=\"dataframe\">\n",
       "  <thead>\n",
       "    <tr style=\"text-align: right;\">\n",
       "      <th></th>\n",
       "      <th>iso3</th>\n",
       "      <th>complete_pct</th>\n",
       "    </tr>\n",
       "  </thead>\n",
       "  <tbody>\n",
       "    <tr>\n",
       "      <th>3</th>\n",
       "      <td>AND</td>\n",
       "      <td>0.0</td>\n",
       "    </tr>\n",
       "    <tr>\n",
       "      <th>69</th>\n",
       "      <td>GRD</td>\n",
       "      <td>0.0</td>\n",
       "    </tr>\n",
       "    <tr>\n",
       "      <th>92</th>\n",
       "      <td>KNA</td>\n",
       "      <td>0.0</td>\n",
       "    </tr>\n",
       "    <tr>\n",
       "      <th>97</th>\n",
       "      <td>LBR</td>\n",
       "      <td>0.0</td>\n",
       "    </tr>\n",
       "    <tr>\n",
       "      <th>99</th>\n",
       "      <td>LCA</td>\n",
       "      <td>0.0</td>\n",
       "    </tr>\n",
       "    <tr>\n",
       "      <th>100</th>\n",
       "      <td>LIE</td>\n",
       "      <td>0.0</td>\n",
       "    </tr>\n",
       "    <tr>\n",
       "      <th>107</th>\n",
       "      <td>MCO</td>\n",
       "      <td>0.0</td>\n",
       "    </tr>\n",
       "    <tr>\n",
       "      <th>110</th>\n",
       "      <td>MDV</td>\n",
       "      <td>0.0</td>\n",
       "    </tr>\n",
       "    <tr>\n",
       "      <th>116</th>\n",
       "      <td>MMR</td>\n",
       "      <td>0.0</td>\n",
       "    </tr>\n",
       "    <tr>\n",
       "      <th>122</th>\n",
       "      <td>MWI</td>\n",
       "      <td>0.0</td>\n",
       "    </tr>\n",
       "    <tr>\n",
       "      <th>126</th>\n",
       "      <td>NGA</td>\n",
       "      <td>0.0</td>\n",
       "    </tr>\n",
       "    <tr>\n",
       "      <th>141</th>\n",
       "      <td>PRK</td>\n",
       "      <td>0.0</td>\n",
       "    </tr>\n",
       "    <tr>\n",
       "      <th>159</th>\n",
       "      <td>STP</td>\n",
       "      <td>0.0</td>\n",
       "    </tr>\n",
       "    <tr>\n",
       "      <th>174</th>\n",
       "      <td>TTO</td>\n",
       "      <td>0.0</td>\n",
       "    </tr>\n",
       "    <tr>\n",
       "      <th>177</th>\n",
       "      <td>TUV</td>\n",
       "      <td>0.0</td>\n",
       "    </tr>\n",
       "    <tr>\n",
       "      <th>184</th>\n",
       "      <td>VCT</td>\n",
       "      <td>0.0</td>\n",
       "    </tr>\n",
       "  </tbody>\n",
       "</table>\n",
       "</div>"
      ],
      "text/plain": [
       "    iso3  complete_pct\n",
       "3    AND           0.0\n",
       "69   GRD           0.0\n",
       "92   KNA           0.0\n",
       "97   LBR           0.0\n",
       "99   LCA           0.0\n",
       "100  LIE           0.0\n",
       "107  MCO           0.0\n",
       "110  MDV           0.0\n",
       "116  MMR           0.0\n",
       "122  MWI           0.0\n",
       "126  NGA           0.0\n",
       "141  PRK           0.0\n",
       "159  STP           0.0\n",
       "174  TTO           0.0\n",
       "177  TUV           0.0\n",
       "184  VCT           0.0"
      ]
     },
     "execution_count": 149,
     "metadata": {},
     "output_type": "execute_result"
    }
   ],
   "source": [
    "exports_missing[exports_missing[\"complete_pct\"]==0]"
   ]
  },
  {
   "cell_type": "code",
   "execution_count": 150,
   "metadata": {},
   "outputs": [],
   "source": [
    "interpolated_exp_df = imputer.interpolate_values(dataframe=nodes_exports_df)"
   ]
  },
  {
   "cell_type": "code",
   "execution_count": 151,
   "metadata": {},
   "outputs": [],
   "source": [
    "exports_carried = imputer.carry_values(dataframe=interpolated_exp_df, value_col=\"value_pct\", max_consec=5)\n",
    "interpolated_exp_df[\"value_pct_carried\"] = exports_carried"
   ]
  },
  {
   "cell_type": "code",
   "execution_count": 152,
   "metadata": {},
   "outputs": [],
   "source": [
    "interpolated_exp_df[\"value_pct_extrapol\"] = imputer.extrapolate_values(dataframe=interpolated_exp_df, \n",
    "                                                                       x_col=\"date\", \n",
    "                                                                       y_col=\"value_pct_carried\", \n",
    "                                                                       floor=0, \n",
    "                                                                       ceiling=100)"
   ]
  },
  {
   "cell_type": "code",
   "execution_count": 160,
   "metadata": {},
   "outputs": [],
   "source": [
    "exports_missing = imputer.pct_completeness_by_group(dataframe=interpolated_exp_df, value_col=\"value_pct_extrapol\")"
   ]
  },
  {
   "cell_type": "code",
   "execution_count": 162,
   "metadata": {},
   "outputs": [
    {
     "data": {
      "text/html": [
       "<div>\n",
       "<style scoped>\n",
       "    .dataframe tbody tr th:only-of-type {\n",
       "        vertical-align: middle;\n",
       "    }\n",
       "\n",
       "    .dataframe tbody tr th {\n",
       "        vertical-align: top;\n",
       "    }\n",
       "\n",
       "    .dataframe thead th {\n",
       "        text-align: right;\n",
       "    }\n",
       "</style>\n",
       "<table border=\"1\" class=\"dataframe\">\n",
       "  <thead>\n",
       "    <tr style=\"text-align: right;\">\n",
       "      <th></th>\n",
       "      <th>iso3</th>\n",
       "      <th>complete_pct</th>\n",
       "    </tr>\n",
       "  </thead>\n",
       "  <tbody>\n",
       "    <tr>\n",
       "      <th>3</th>\n",
       "      <td>AND</td>\n",
       "      <td>0.0</td>\n",
       "    </tr>\n",
       "    <tr>\n",
       "      <th>69</th>\n",
       "      <td>GRD</td>\n",
       "      <td>0.0</td>\n",
       "    </tr>\n",
       "    <tr>\n",
       "      <th>92</th>\n",
       "      <td>KNA</td>\n",
       "      <td>0.0</td>\n",
       "    </tr>\n",
       "    <tr>\n",
       "      <th>97</th>\n",
       "      <td>LBR</td>\n",
       "      <td>0.0</td>\n",
       "    </tr>\n",
       "    <tr>\n",
       "      <th>99</th>\n",
       "      <td>LCA</td>\n",
       "      <td>0.0</td>\n",
       "    </tr>\n",
       "    <tr>\n",
       "      <th>100</th>\n",
       "      <td>LIE</td>\n",
       "      <td>0.0</td>\n",
       "    </tr>\n",
       "    <tr>\n",
       "      <th>107</th>\n",
       "      <td>MCO</td>\n",
       "      <td>0.0</td>\n",
       "    </tr>\n",
       "    <tr>\n",
       "      <th>110</th>\n",
       "      <td>MDV</td>\n",
       "      <td>0.0</td>\n",
       "    </tr>\n",
       "    <tr>\n",
       "      <th>116</th>\n",
       "      <td>MMR</td>\n",
       "      <td>0.0</td>\n",
       "    </tr>\n",
       "    <tr>\n",
       "      <th>122</th>\n",
       "      <td>MWI</td>\n",
       "      <td>0.0</td>\n",
       "    </tr>\n",
       "    <tr>\n",
       "      <th>126</th>\n",
       "      <td>NGA</td>\n",
       "      <td>0.0</td>\n",
       "    </tr>\n",
       "    <tr>\n",
       "      <th>141</th>\n",
       "      <td>PRK</td>\n",
       "      <td>0.0</td>\n",
       "    </tr>\n",
       "    <tr>\n",
       "      <th>159</th>\n",
       "      <td>STP</td>\n",
       "      <td>0.0</td>\n",
       "    </tr>\n",
       "    <tr>\n",
       "      <th>174</th>\n",
       "      <td>TTO</td>\n",
       "      <td>0.0</td>\n",
       "    </tr>\n",
       "    <tr>\n",
       "      <th>177</th>\n",
       "      <td>TUV</td>\n",
       "      <td>0.0</td>\n",
       "    </tr>\n",
       "    <tr>\n",
       "      <th>184</th>\n",
       "      <td>VCT</td>\n",
       "      <td>0.0</td>\n",
       "    </tr>\n",
       "  </tbody>\n",
       "</table>\n",
       "</div>"
      ],
      "text/plain": [
       "    iso3  complete_pct\n",
       "3    AND           0.0\n",
       "69   GRD           0.0\n",
       "92   KNA           0.0\n",
       "97   LBR           0.0\n",
       "99   LCA           0.0\n",
       "100  LIE           0.0\n",
       "107  MCO           0.0\n",
       "110  MDV           0.0\n",
       "116  MMR           0.0\n",
       "122  MWI           0.0\n",
       "126  NGA           0.0\n",
       "141  PRK           0.0\n",
       "159  STP           0.0\n",
       "174  TTO           0.0\n",
       "177  TUV           0.0\n",
       "184  VCT           0.0"
      ]
     },
     "execution_count": 162,
     "metadata": {},
     "output_type": "execute_result"
    }
   ],
   "source": [
    "exports_missing[exports_missing[\"complete_pct\"]==0]"
   ]
  },
  {
   "cell_type": "code",
   "execution_count": 163,
   "metadata": {},
   "outputs": [],
   "source": [
    "knn_exp_df = interpolated_exp_df.merge(upload_gdp_df[[\"node_id\", \"year\", \"value\"]].rename(columns={\"value\":\"pct_world_gdp\"}),\n",
    "                          left_on=[\"node_id\", \"date\"],\n",
    "                          right_on=[\"node_id\", \"year\"],\n",
    "                          how=\"left\")"
   ]
  },
  {
   "cell_type": "code",
   "execution_count": 167,
   "metadata": {},
   "outputs": [],
   "source": [
    "knn_exp_df[\"value_pct_knn\"] = imputer.impute_with_knn(dataframe=knn_exp_df, value_col=\"value_pct_extrapol\", cols_for_imputation=[\"pct_world_gdp\"])"
   ]
  },
  {
   "cell_type": "code",
   "execution_count": 173,
   "metadata": {},
   "outputs": [],
   "source": [
    "exports_missing = imputer.pct_completeness_by_group(dataframe=knn_exp_df, value_col=\"value_pct_knn\")"
   ]
  },
  {
   "cell_type": "code",
   "execution_count": 174,
   "metadata": {},
   "outputs": [
    {
     "data": {
      "text/plain": [
       "np.float64(1.0)"
      ]
     },
     "execution_count": 174,
     "metadata": {},
     "output_type": "execute_result"
    }
   ],
   "source": [
    "exports_missing[\"complete_pct\"].min()"
   ]
  },
  {
   "cell_type": "code",
   "execution_count": 175,
   "metadata": {},
   "outputs": [],
   "source": [
    "knn_exp_df[\"value_norm\"] = exports_handler.normalise_values(dataframe=knn_exp_df,\n",
    "                                                            group_by_col=\"date\",\n",
    "                                                            raw_values_col=\"value_pct_knn\",\n",
    "                                                            apply_log=True\n",
    "                                                            )"
   ]
  },
  {
   "cell_type": "code",
   "execution_count": 177,
   "metadata": {},
   "outputs": [
    {
     "data": {
      "text/plain": [
       "<Axes: xlabel='date', ylabel='value_norm'>"
      ]
     },
     "execution_count": 177,
     "metadata": {},
     "output_type": "execute_result"
    },
    {
     "data": {
      "image/png": "[encoded data removed]",
      "text/plain": [
       "<Figure size 640x480 with 1 Axes>"
      ]
     },
     "metadata": {},
     "output_type": "display_data"
    }
   ],
   "source": [
    "sns.lineplot(data=knn_exp_df[knn_exp_df[\"iso3\"].isin([\"USA\", \"CHN\", \"MEX\", \"GBR\", \"FRA\", \"IND\", \"RUS\"])],\n",
    "             x=\"date\", y=\"value_norm\", hue=\"iso3\"\n",
    "             )"
   ]
  },
  {
   "cell_type": "code",
   "execution_count": 178,
   "metadata": {},
   "outputs": [],
   "source": [
    "knn_exp_df = knn_exp_df.drop([\"value\", \"year\"], axis=1).rename(columns={\"value_pct_knn\":\"value\"})"
   ]
  },
  {
   "cell_type": "code",
   "execution_count": 180,
   "metadata": {},
   "outputs": [],
   "source": [
    "upload_exp_df = exports_handler.format_df_for_upload(dataframe=knn_exp_df)"
   ]
  },
  {
   "cell_type": "code",
   "execution_count": 182,
   "metadata": {},
   "outputs": [],
   "source": [
    "# exports_handler.upload_to_bq(dataframe=upload_exp_df)"
   ]
  },
  {
   "cell_type": "markdown",
   "metadata": {},
   "source": [
    "### % of global R&D spending"
   ]
  },
  {
   "cell_type": "code",
   "execution_count": 3,
   "metadata": {},
   "outputs": [],
   "source": [
    "rd_code = \"GB.XPD.RSDV.GD.ZS\""
   ]
  },
  {
   "cell_type": "code",
   "execution_count": 4,
   "metadata": {},
   "outputs": [],
   "source": [
    "rd_handler = WBDataHandler(variable=pct_rd_spending)"
   ]
  },
  {
   "cell_type": "code",
   "execution_count": 5,
   "metadata": {},
   "outputs": [],
   "source": [
    "rd_df = rd_handler.get_data(rd_code, from_year=1996, to_year=2023)"
   ]
  },
  {
   "cell_type": "code",
   "execution_count": 7,
   "metadata": {},
   "outputs": [],
   "source": [
    "nodes_rd_df = rd_handler.keep_nodes_only(raw_indicator_df=rd_df)"
   ]
  },
  {
   "cell_type": "code",
   "execution_count": 12,
   "metadata": {},
   "outputs": [],
   "source": [
    "imputer = Imputer(group_by_col=\"iso3\")"
   ]
  },
  {
   "cell_type": "code",
   "execution_count": 13,
   "metadata": {},
   "outputs": [],
   "source": [
    "rd_missing = imputer.pct_completeness_by_group(dataframe=nodes_rd_df, value_col=\"value\")"
   ]
  },
  {
   "cell_type": "code",
   "execution_count": 15,
   "metadata": {},
   "outputs": [
    {
     "data": {
      "text/plain": [
       "193"
      ]
     },
     "execution_count": 15,
     "metadata": {},
     "output_type": "execute_result"
    }
   ],
   "source": [
    "len(rd_missing[rd_missing[\"complete_pct\"]<1])"
   ]
  },
  {
   "cell_type": "code",
   "execution_count": 16,
   "metadata": {},
   "outputs": [],
   "source": [
    "interpolated_rd_df = imputer.interpolate_values(dataframe=nodes_rd_df)"
   ]
  },
  {
   "cell_type": "code",
   "execution_count": 17,
   "metadata": {},
   "outputs": [],
   "source": [
    "interpolated_rd_df[\"value_carried\"] = imputer.carry_values(dataframe=interpolated_rd_df,\n",
    "                                                           value_col=\"value\",\n",
    "                                                           max_consec=5,\n",
    "                                                           forwards=True,\n",
    "                                                           backwards=True\n",
    "                                                           )"
   ]
  },
  {
   "cell_type": "code",
   "execution_count": 19,
   "metadata": {},
   "outputs": [],
   "source": [
    "interpolated_rd_df[\"value_extrapol\"] = imputer.extrapolate_values(dataframe=interpolated_rd_df, \n",
    "                                                                  x_col=\"date\", \n",
    "                                                                  y_col=\"value_carried\",\n",
    "                                                                  floor=0,\n",
    "                                                                  ceiling=100\n",
    "                                                                  )"
   ]
  },
  {
   "cell_type": "code",
   "execution_count": 24,
   "metadata": {},
   "outputs": [],
   "source": [
    "rd_missing = imputer.pct_completeness_by_group(dataframe=interpolated_rd_df, value_col=\"value_extrapol\")"
   ]
  },
  {
   "cell_type": "code",
   "execution_count": 25,
   "metadata": {},
   "outputs": [
    {
     "data": {
      "text/html": [
       "<div>\n",
       "<style scoped>\n",
       "    .dataframe tbody tr th:only-of-type {\n",
       "        vertical-align: middle;\n",
       "    }\n",
       "\n",
       "    .dataframe tbody tr th {\n",
       "        vertical-align: top;\n",
       "    }\n",
       "\n",
       "    .dataframe thead th {\n",
       "        text-align: right;\n",
       "    }\n",
       "</style>\n",
       "<table border=\"1\" class=\"dataframe\">\n",
       "  <thead>\n",
       "    <tr style=\"text-align: right;\">\n",
       "      <th></th>\n",
       "      <th>iso3</th>\n",
       "      <th>complete_pct</th>\n",
       "    </tr>\n",
       "  </thead>\n",
       "  <tbody>\n",
       "    <tr>\n",
       "      <th>0</th>\n",
       "      <td>AFG</td>\n",
       "      <td>0.0</td>\n",
       "    </tr>\n",
       "    <tr>\n",
       "      <th>3</th>\n",
       "      <td>AND</td>\n",
       "      <td>0.0</td>\n",
       "    </tr>\n",
       "    <tr>\n",
       "      <th>7</th>\n",
       "      <td>ATG</td>\n",
       "      <td>0.0</td>\n",
       "    </tr>\n",
       "    <tr>\n",
       "      <th>13</th>\n",
       "      <td>BEN</td>\n",
       "      <td>0.0</td>\n",
       "    </tr>\n",
       "    <tr>\n",
       "      <th>15</th>\n",
       "      <td>BGD</td>\n",
       "      <td>0.0</td>\n",
       "    </tr>\n",
       "    <tr>\n",
       "      <th>18</th>\n",
       "      <td>BHS</td>\n",
       "      <td>0.0</td>\n",
       "    </tr>\n",
       "    <tr>\n",
       "      <th>21</th>\n",
       "      <td>BLZ</td>\n",
       "      <td>0.0</td>\n",
       "    </tr>\n",
       "    <tr>\n",
       "      <th>24</th>\n",
       "      <td>BRB</td>\n",
       "      <td>0.0</td>\n",
       "    </tr>\n",
       "    <tr>\n",
       "      <th>26</th>\n",
       "      <td>BTN</td>\n",
       "      <td>0.0</td>\n",
       "    </tr>\n",
       "    <tr>\n",
       "      <th>28</th>\n",
       "      <td>CAF</td>\n",
       "      <td>0.0</td>\n",
       "    </tr>\n",
       "    <tr>\n",
       "      <th>34</th>\n",
       "      <td>CMR</td>\n",
       "      <td>0.0</td>\n",
       "    </tr>\n",
       "    <tr>\n",
       "      <th>38</th>\n",
       "      <td>COM</td>\n",
       "      <td>0.0</td>\n",
       "    </tr>\n",
       "    <tr>\n",
       "      <th>45</th>\n",
       "      <td>DJI</td>\n",
       "      <td>0.0</td>\n",
       "    </tr>\n",
       "    <tr>\n",
       "      <th>46</th>\n",
       "      <td>DMA</td>\n",
       "      <td>0.0</td>\n",
       "    </tr>\n",
       "    <tr>\n",
       "      <th>48</th>\n",
       "      <td>DOM</td>\n",
       "      <td>0.0</td>\n",
       "    </tr>\n",
       "    <tr>\n",
       "      <th>52</th>\n",
       "      <td>ERI</td>\n",
       "      <td>0.0</td>\n",
       "    </tr>\n",
       "    <tr>\n",
       "      <th>57</th>\n",
       "      <td>FJI</td>\n",
       "      <td>0.0</td>\n",
       "    </tr>\n",
       "    <tr>\n",
       "      <th>59</th>\n",
       "      <td>FSM</td>\n",
       "      <td>0.0</td>\n",
       "    </tr>\n",
       "    <tr>\n",
       "      <th>64</th>\n",
       "      <td>GIN</td>\n",
       "      <td>0.0</td>\n",
       "    </tr>\n",
       "    <tr>\n",
       "      <th>66</th>\n",
       "      <td>GNB</td>\n",
       "      <td>0.0</td>\n",
       "    </tr>\n",
       "    <tr>\n",
       "      <th>67</th>\n",
       "      <td>GNQ</td>\n",
       "      <td>0.0</td>\n",
       "    </tr>\n",
       "    <tr>\n",
       "      <th>69</th>\n",
       "      <td>GRD</td>\n",
       "      <td>0.0</td>\n",
       "    </tr>\n",
       "    <tr>\n",
       "      <th>71</th>\n",
       "      <td>GUY</td>\n",
       "      <td>0.0</td>\n",
       "    </tr>\n",
       "    <tr>\n",
       "      <th>74</th>\n",
       "      <td>HTI</td>\n",
       "      <td>0.0</td>\n",
       "    </tr>\n",
       "    <tr>\n",
       "      <th>91</th>\n",
       "      <td>KIR</td>\n",
       "      <td>0.0</td>\n",
       "    </tr>\n",
       "    <tr>\n",
       "      <th>92</th>\n",
       "      <td>KNA</td>\n",
       "      <td>0.0</td>\n",
       "    </tr>\n",
       "    <tr>\n",
       "      <th>96</th>\n",
       "      <td>LBN</td>\n",
       "      <td>0.0</td>\n",
       "    </tr>\n",
       "    <tr>\n",
       "      <th>97</th>\n",
       "      <td>LBR</td>\n",
       "      <td>0.0</td>\n",
       "    </tr>\n",
       "    <tr>\n",
       "      <th>98</th>\n",
       "      <td>LBY</td>\n",
       "      <td>0.0</td>\n",
       "    </tr>\n",
       "    <tr>\n",
       "      <th>100</th>\n",
       "      <td>LIE</td>\n",
       "      <td>0.0</td>\n",
       "    </tr>\n",
       "    <tr>\n",
       "      <th>110</th>\n",
       "      <td>MDV</td>\n",
       "      <td>0.0</td>\n",
       "    </tr>\n",
       "    <tr>\n",
       "      <th>112</th>\n",
       "      <td>MHL</td>\n",
       "      <td>0.0</td>\n",
       "    </tr>\n",
       "    <tr>\n",
       "      <th>122</th>\n",
       "      <td>MWI</td>\n",
       "      <td>0.0</td>\n",
       "    </tr>\n",
       "    <tr>\n",
       "      <th>125</th>\n",
       "      <td>NER</td>\n",
       "      <td>0.0</td>\n",
       "    </tr>\n",
       "    <tr>\n",
       "      <th>131</th>\n",
       "      <td>NRU</td>\n",
       "      <td>0.0</td>\n",
       "    </tr>\n",
       "    <tr>\n",
       "      <th>138</th>\n",
       "      <td>PLW</td>\n",
       "      <td>0.0</td>\n",
       "    </tr>\n",
       "    <tr>\n",
       "      <th>141</th>\n",
       "      <td>PRK</td>\n",
       "      <td>0.0</td>\n",
       "    </tr>\n",
       "    <tr>\n",
       "      <th>152</th>\n",
       "      <td>SLB</td>\n",
       "      <td>0.0</td>\n",
       "    </tr>\n",
       "    <tr>\n",
       "      <th>153</th>\n",
       "      <td>SLE</td>\n",
       "      <td>0.0</td>\n",
       "    </tr>\n",
       "    <tr>\n",
       "      <th>155</th>\n",
       "      <td>SMR</td>\n",
       "      <td>0.0</td>\n",
       "    </tr>\n",
       "    <tr>\n",
       "      <th>156</th>\n",
       "      <td>SOM</td>\n",
       "      <td>0.0</td>\n",
       "    </tr>\n",
       "    <tr>\n",
       "      <th>158</th>\n",
       "      <td>SSD</td>\n",
       "      <td>0.0</td>\n",
       "    </tr>\n",
       "    <tr>\n",
       "      <th>159</th>\n",
       "      <td>STP</td>\n",
       "      <td>0.0</td>\n",
       "    </tr>\n",
       "    <tr>\n",
       "      <th>160</th>\n",
       "      <td>SUR</td>\n",
       "      <td>0.0</td>\n",
       "    </tr>\n",
       "    <tr>\n",
       "      <th>171</th>\n",
       "      <td>TKM</td>\n",
       "      <td>0.0</td>\n",
       "    </tr>\n",
       "    <tr>\n",
       "      <th>172</th>\n",
       "      <td>TLS</td>\n",
       "      <td>0.0</td>\n",
       "    </tr>\n",
       "    <tr>\n",
       "      <th>173</th>\n",
       "      <td>TON</td>\n",
       "      <td>0.0</td>\n",
       "    </tr>\n",
       "    <tr>\n",
       "      <th>177</th>\n",
       "      <td>TUV</td>\n",
       "      <td>0.0</td>\n",
       "    </tr>\n",
       "    <tr>\n",
       "      <th>187</th>\n",
       "      <td>VUT</td>\n",
       "      <td>0.0</td>\n",
       "    </tr>\n",
       "    <tr>\n",
       "      <th>188</th>\n",
       "      <td>WSM</td>\n",
       "      <td>0.0</td>\n",
       "    </tr>\n",
       "    <tr>\n",
       "      <th>189</th>\n",
       "      <td>YEM</td>\n",
       "      <td>0.0</td>\n",
       "    </tr>\n",
       "    <tr>\n",
       "      <th>192</th>\n",
       "      <td>ZWE</td>\n",
       "      <td>0.0</td>\n",
       "    </tr>\n",
       "  </tbody>\n",
       "</table>\n",
       "</div>"
      ],
      "text/plain": [
       "    iso3  complete_pct\n",
       "0    AFG           0.0\n",
       "3    AND           0.0\n",
       "7    ATG           0.0\n",
       "13   BEN           0.0\n",
       "15   BGD           0.0\n",
       "18   BHS           0.0\n",
       "21   BLZ           0.0\n",
       "24   BRB           0.0\n",
       "26   BTN           0.0\n",
       "28   CAF           0.0\n",
       "34   CMR           0.0\n",
       "38   COM           0.0\n",
       "45   DJI           0.0\n",
       "46   DMA           0.0\n",
       "48   DOM           0.0\n",
       "52   ERI           0.0\n",
       "57   FJI           0.0\n",
       "59   FSM           0.0\n",
       "64   GIN           0.0\n",
       "66   GNB           0.0\n",
       "67   GNQ           0.0\n",
       "69   GRD           0.0\n",
       "71   GUY           0.0\n",
       "74   HTI           0.0\n",
       "91   KIR           0.0\n",
       "92   KNA           0.0\n",
       "96   LBN           0.0\n",
       "97   LBR           0.0\n",
       "98   LBY           0.0\n",
       "100  LIE           0.0\n",
       "110  MDV           0.0\n",
       "112  MHL           0.0\n",
       "122  MWI           0.0\n",
       "125  NER           0.0\n",
       "131  NRU           0.0\n",
       "138  PLW           0.0\n",
       "141  PRK           0.0\n",
       "152  SLB           0.0\n",
       "153  SLE           0.0\n",
       "155  SMR           0.0\n",
       "156  SOM           0.0\n",
       "158  SSD           0.0\n",
       "159  STP           0.0\n",
       "160  SUR           0.0\n",
       "171  TKM           0.0\n",
       "172  TLS           0.0\n",
       "173  TON           0.0\n",
       "177  TUV           0.0\n",
       "187  VUT           0.0\n",
       "188  WSM           0.0\n",
       "189  YEM           0.0\n",
       "192  ZWE           0.0"
      ]
     },
     "execution_count": 25,
     "metadata": {},
     "output_type": "execute_result"
    }
   ],
   "source": [
    "rd_missing[rd_missing[\"complete_pct\"]==0]"
   ]
  },
  {
   "cell_type": "code",
   "execution_count": 26,
   "metadata": {},
   "outputs": [],
   "source": [
    "interpolated_rd_df[\"value_extrapol\"] = interpolated_rd_df[\"value_extrapol\"].fillna(0)"
   ]
  },
  {
   "cell_type": "code",
   "execution_count": 52,
   "metadata": {},
   "outputs": [],
   "source": [
    "all_nodes_gdp_df[\"gdp_estimate\"] = (all_nodes_gdp_df[\"value_pct_extrapol\"] / 100) * all_nodes_gdp_df[\"sum\"]"
   ]
  },
  {
   "cell_type": "code",
   "execution_count": 55,
   "metadata": {},
   "outputs": [
    {
     "data": {
      "text/html": [
       "<div>\n",
       "<style scoped>\n",
       "    .dataframe tbody tr th:only-of-type {\n",
       "        vertical-align: middle;\n",
       "    }\n",
       "\n",
       "    .dataframe tbody tr th {\n",
       "        vertical-align: top;\n",
       "    }\n",
       "\n",
       "    .dataframe thead th {\n",
       "        text-align: right;\n",
       "    }\n",
       "</style>\n",
       "<table border=\"1\" class=\"dataframe\">\n",
       "  <thead>\n",
       "    <tr style=\"text-align: right;\">\n",
       "      <th></th>\n",
       "      <th>date</th>\n",
       "      <th>value</th>\n",
       "      <th>is_imputed</th>\n",
       "      <th>sum</th>\n",
       "      <th>node_id</th>\n",
       "      <th>iso3</th>\n",
       "      <th>value_pct</th>\n",
       "      <th>value_pct_carried</th>\n",
       "      <th>value_pct_extrapol</th>\n",
       "      <th>gdp_estimate</th>\n",
       "    </tr>\n",
       "  </thead>\n",
       "  <tbody>\n",
       "  </tbody>\n",
       "</table>\n",
       "</div>"
      ],
      "text/plain": [
       "Empty DataFrame\n",
       "Columns: [date, value, is_imputed, sum, node_id, iso3, value_pct, value_pct_carried, value_pct_extrapol, gdp_estimate]\n",
       "Index: []"
      ]
     },
     "execution_count": 55,
     "metadata": {},
     "output_type": "execute_result"
    }
   ],
   "source": [
    "all_nodes_gdp_df[all_nodes_gdp_df[\"gdp_estimate\"].isna()]"
   ]
  },
  {
   "cell_type": "code",
   "execution_count": 58,
   "metadata": {},
   "outputs": [],
   "source": [
    "interpolated_rd_df = interpolated_rd_df.merge(all_nodes_gdp_df[[\"date\", \"iso3\", \"gdp_estimate\"]],\n",
    "                         on=[\"date\", \"iso3\"],\n",
    "                         how=\"left\"\n",
    "                         )"
   ]
  },
  {
   "cell_type": "code",
   "execution_count": 61,
   "metadata": {},
   "outputs": [],
   "source": [
    "interpolated_rd_df[\"rd_spending\"] = (interpolated_rd_df[\"value_extrapol\"] / 100) * interpolated_rd_df[\"gdp_estimate\"]"
   ]
  },
  {
   "cell_type": "code",
   "execution_count": 65,
   "metadata": {},
   "outputs": [],
   "source": [
    "interpolated_rd_df[\"rd_spending_total\"] = interpolated_rd_df['rd_spending'].groupby(interpolated_rd_df['date']).transform('sum')"
   ]
  },
  {
   "cell_type": "code",
   "execution_count": 66,
   "metadata": {},
   "outputs": [],
   "source": [
    "interpolated_rd_df[\"pct_rd_spending\"] = (interpolated_rd_df[\"rd_spending\"] / interpolated_rd_df[\"rd_spending_total\"]) * 100"
   ]
  },
  {
   "cell_type": "code",
   "execution_count": 69,
   "metadata": {},
   "outputs": [
    {
     "data": {
      "text/html": [
       "<div>\n",
       "<style scoped>\n",
       "    .dataframe tbody tr th:only-of-type {\n",
       "        vertical-align: middle;\n",
       "    }\n",
       "\n",
       "    .dataframe tbody tr th {\n",
       "        vertical-align: top;\n",
       "    }\n",
       "\n",
       "    .dataframe thead th {\n",
       "        text-align: right;\n",
       "    }\n",
       "</style>\n",
       "<table border=\"1\" class=\"dataframe\">\n",
       "  <thead>\n",
       "    <tr style=\"text-align: right;\">\n",
       "      <th></th>\n",
       "      <th>iso3</th>\n",
       "      <th>pct_rd_spending</th>\n",
       "    </tr>\n",
       "  </thead>\n",
       "  <tbody>\n",
       "    <tr>\n",
       "      <th>5123</th>\n",
       "      <td>USA</td>\n",
       "      <td>39.225016</td>\n",
       "    </tr>\n",
       "    <tr>\n",
       "      <th>923</th>\n",
       "      <td>CHN</td>\n",
       "      <td>17.951052</td>\n",
       "    </tr>\n",
       "    <tr>\n",
       "      <th>1259</th>\n",
       "      <td>DEU</td>\n",
       "      <td>5.806967</td>\n",
       "    </tr>\n",
       "    <tr>\n",
       "      <th>2435</th>\n",
       "      <td>JPN</td>\n",
       "      <td>5.758038</td>\n",
       "    </tr>\n",
       "    <tr>\n",
       "      <th>1735</th>\n",
       "      <td>GBR</td>\n",
       "      <td>4.037198</td>\n",
       "    </tr>\n",
       "    <tr>\n",
       "      <th>2631</th>\n",
       "      <td>KOR</td>\n",
       "      <td>3.501780</td>\n",
       "    </tr>\n",
       "    <tr>\n",
       "      <th>1651</th>\n",
       "      <td>FRA</td>\n",
       "      <td>2.789275</td>\n",
       "    </tr>\n",
       "    <tr>\n",
       "      <th>839</th>\n",
       "      <td>CAN</td>\n",
       "      <td>1.377206</td>\n",
       "    </tr>\n",
       "    <tr>\n",
       "      <th>2351</th>\n",
       "      <td>ITA</td>\n",
       "      <td>1.359518</td>\n",
       "    </tr>\n",
       "    <tr>\n",
       "      <th>251</th>\n",
       "      <td>AUS</td>\n",
       "      <td>1.307420</td>\n",
       "    </tr>\n",
       "    <tr>\n",
       "      <th>867</th>\n",
       "      <td>CHE</td>\n",
       "      <td>1.232747</td>\n",
       "    </tr>\n",
       "    <tr>\n",
       "      <th>2323</th>\n",
       "      <td>ISR</td>\n",
       "      <td>1.174989</td>\n",
       "    </tr>\n",
       "    <tr>\n",
       "      <th>3611</th>\n",
       "      <td>NLD</td>\n",
       "      <td>1.070568</td>\n",
       "    </tr>\n",
       "    <tr>\n",
       "      <th>671</th>\n",
       "      <td>BRA</td>\n",
       "      <td>1.032341</td>\n",
       "    </tr>\n",
       "    <tr>\n",
       "      <th>2183</th>\n",
       "      <td>IND</td>\n",
       "      <td>0.951523</td>\n",
       "    </tr>\n",
       "    <tr>\n",
       "      <th>1511</th>\n",
       "      <td>ESP</td>\n",
       "      <td>0.936904</td>\n",
       "    </tr>\n",
       "    <tr>\n",
       "      <th>363</th>\n",
       "      <td>BEL</td>\n",
       "      <td>0.899208</td>\n",
       "    </tr>\n",
       "    <tr>\n",
       "      <th>4591</th>\n",
       "      <td>SWE</td>\n",
       "      <td>0.840769</td>\n",
       "    </tr>\n",
       "    <tr>\n",
       "      <th>4115</th>\n",
       "      <td>RUS</td>\n",
       "      <td>0.784486</td>\n",
       "    </tr>\n",
       "    <tr>\n",
       "      <th>279</th>\n",
       "      <td>AUT</td>\n",
       "      <td>0.696838</td>\n",
       "    </tr>\n",
       "  </tbody>\n",
       "</table>\n",
       "</div>"
      ],
      "text/plain": [
       "     iso3  pct_rd_spending\n",
       "5123  USA        39.225016\n",
       "923   CHN        17.951052\n",
       "1259  DEU         5.806967\n",
       "2435  JPN         5.758038\n",
       "1735  GBR         4.037198\n",
       "2631  KOR         3.501780\n",
       "1651  FRA         2.789275\n",
       "839   CAN         1.377206\n",
       "2351  ITA         1.359518\n",
       "251   AUS         1.307420\n",
       "867   CHE         1.232747\n",
       "2323  ISR         1.174989\n",
       "3611  NLD         1.070568\n",
       "671   BRA         1.032341\n",
       "2183  IND         0.951523\n",
       "1511  ESP         0.936904\n",
       "363   BEL         0.899208\n",
       "4591  SWE         0.840769\n",
       "4115  RUS         0.784486\n",
       "279   AUT         0.696838"
      ]
     },
     "execution_count": 69,
     "metadata": {},
     "output_type": "execute_result"
    }
   ],
   "source": [
    "interpolated_rd_df\\\n",
    "    .loc[interpolated_rd_df[\"date\"]==2023, [\"iso3\", \"pct_rd_spending\"]]\\\n",
    "    .sort_values(\"pct_rd_spending\", ascending=False)\\\n",
    "    .head(20)"
   ]
  },
  {
   "cell_type": "code",
   "execution_count": 70,
   "metadata": {},
   "outputs": [],
   "source": [
    "interpolated_rd_df[\"value_norm\"] = rd_handler.normalise_values(dataframe=interpolated_rd_df,\n",
    "                                                               group_by_col=\"date\",\n",
    "                                                               raw_values_col=\"pct_rd_spending\",\n",
    "                                                               apply_log=True\n",
    "                                                               )"
   ]
  },
  {
   "cell_type": "code",
   "execution_count": 72,
   "metadata": {},
   "outputs": [
    {
     "data": {
      "text/plain": [
       "<Axes: xlabel='date', ylabel='value_norm'>"
      ]
     },
     "execution_count": 72,
     "metadata": {},
     "output_type": "execute_result"
    },
    {
     "data": {
      "image/png": "[encoded data removed]",
      "text/plain": [
       "<Figure size 640x480 with 1 Axes>"
      ]
     },
     "metadata": {},
     "output_type": "display_data"
    }
   ],
   "source": [
    "sns.lineplot(data=interpolated_rd_df[interpolated_rd_df[\"iso3\"].isin([\"USA\", \"CHN\", \"RUS\", \"FRA\", \"KOR\", \"JPN\", \"GBR\", \"IND\"])],\n",
    "             x=\"date\", y=\"value_norm\", hue=\"iso3\"\n",
    "             )"
   ]
  },
  {
   "cell_type": "code",
   "execution_count": 74,
   "metadata": {},
   "outputs": [],
   "source": [
    "interpolated_rd_df = interpolated_rd_df.drop(\"value\", axis=1).rename(columns={\"pct_rd_spending\":\"value\"})"
   ]
  },
  {
   "cell_type": "code",
   "execution_count": 75,
   "metadata": {},
   "outputs": [],
   "source": [
    "upload_rd_df = rd_handler.format_df_for_upload(dataframe=interpolated_rd_df)"
   ]
  },
  {
   "cell_type": "code",
   "execution_count": 78,
   "metadata": {},
   "outputs": [],
   "source": [
    "# rd_handler.upload_to_bq(dataframe=upload_rd_df)"
   ]
  }
 ],
 "metadata": {
  "language_info": {
   "name": "python"
  }
 },
 "nbformat": 4,
 "nbformat_minor": 2
}
