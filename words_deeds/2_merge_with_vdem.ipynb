{
 "cells": [
  {
   "cell_type": "code",
   "execution_count": 1,
   "metadata": {},
   "outputs": [
    {
     "name": "stdout",
     "output_type": "stream",
     "text": [
      "c:\\Users\\mquick\\Documents\\zeitgeist blog\\projects\n"
     ]
    }
   ],
   "source": [
    "import os\n",
    "\n",
    "os.chdir(\"..\")\n",
    "\n",
    "print(os.getcwd())"
   ]
  },
  {
   "cell_type": "code",
   "execution_count": 2,
   "metadata": {},
   "outputs": [],
   "source": [
    "import pandas as pd\n",
    "from words_deeds.types.democracy_indices import electoral, liberal, egalitarian"
   ]
  },
  {
   "cell_type": "markdown",
   "metadata": {},
   "source": [
    "### Load data\n",
    "\n",
    "* Vdem\n",
    "* Words scores dataset\n",
    "* Get country iso alpha 3 codes using COW codes [here](https://www.jkarreth.net/countrycodes.html)"
   ]
  },
  {
   "cell_type": "code",
   "execution_count": 3,
   "metadata": {},
   "outputs": [
    {
     "name": "stderr",
     "output_type": "stream",
     "text": [
      "C:\\Users\\mquick\\AppData\\Local\\Temp\\ipykernel_63452\\681960494.py:1: DtypeWarning: Columns (364,365,366,399,415,804,836,837,924,1240,1257,1486,3094,3168,3169,3341,3342,3344,3345,3347,3350,3352) have mixed types. Specify dtype option on import or set low_memory=False.\n",
      "  vdem = pd.read_csv(\"./words_deeds/data/vdem.csv\")\n"
     ]
    }
   ],
   "source": [
    "vdem = pd.read_csv(\"./words_deeds/data/vdem.csv\")"
   ]
  },
  {
   "cell_type": "code",
   "execution_count": 4,
   "metadata": {},
   "outputs": [],
   "source": [
    "vdem = vdem[[\"country_text_id\", \"year\", electoral.vdem_index, liberal.vdem_index, egalitarian.vdem_index]]"
   ]
  },
  {
   "cell_type": "code",
   "execution_count": 5,
   "metadata": {},
   "outputs": [],
   "source": [
    "words_df = pd.read_csv(\"./words_deeds/data/words_scores.csv\")"
   ]
  },
  {
   "cell_type": "code",
   "execution_count": 6,
   "metadata": {},
   "outputs": [],
   "source": [
    "codes_df = pd.read_csv(\"https://raw.githubusercontent.com/leops95/cow2iso/master/cow2iso.csv\")"
   ]
  },
  {
   "cell_type": "code",
   "execution_count": 7,
   "metadata": {},
   "outputs": [],
   "source": [
    "codes_df = codes_df[[\"cow_id\", \"iso3\"]]\n",
    "codes_df.dropna(subset=\"cow_id\", inplace=True)"
   ]
  },
  {
   "cell_type": "code",
   "execution_count": 8,
   "metadata": {},
   "outputs": [
    {
     "data": {
      "text/plain": [
       "cow_id     int32\n",
       "iso3      object\n",
       "dtype: object"
      ]
     },
     "execution_count": 8,
     "metadata": {},
     "output_type": "execute_result"
    }
   ],
   "source": [
    "codes_df[\"cow_id\"] = codes_df[\"cow_id\"].astype(int)\n",
    "codes_df.dtypes"
   ]
  },
  {
   "cell_type": "code",
   "execution_count": 9,
   "metadata": {},
   "outputs": [
    {
     "data": {
      "text/plain": [
       "cowcode          int64\n",
       "year             int64\n",
       "egalitarian    float64\n",
       "electoral      float64\n",
       "liberal        float64\n",
       "country         object\n",
       "words_total    float64\n",
       "dtype: object"
      ]
     },
     "execution_count": 9,
     "metadata": {},
     "output_type": "execute_result"
    }
   ],
   "source": [
    "words_df.dtypes"
   ]
  },
  {
   "cell_type": "code",
   "execution_count": 10,
   "metadata": {},
   "outputs": [],
   "source": [
    "words_df = words_df.merge(codes_df, left_on=\"cowcode\", right_on=\"cow_id\", how=\"left\")\\\n",
    "    .drop([\"cow_id\", \"cowcode\"], axis=1)\\\n",
    "    .rename(columns={\"cow_id\":\"iso\"})"
   ]
  },
  {
   "cell_type": "code",
   "execution_count": 11,
   "metadata": {},
   "outputs": [
    {
     "data": {
      "text/plain": [
       "array(['Federal Republic of Central America', 'Monaco', 'Liechtenstein',\n",
       "       'Bavaria', 'Baden', 'Serbia', 'Serbia and Montenegro',\n",
       "       'Yugoslavia', 'Kosovo', 'Taiwan', 'Vietnam'], dtype=object)"
      ]
     },
     "execution_count": 11,
     "metadata": {},
     "output_type": "execute_result"
    }
   ],
   "source": [
    "words_df.loc[words_df[\"iso3\"].isna(), \"country\"].unique()"
   ]
  },
  {
   "cell_type": "code",
   "execution_count": 12,
   "metadata": {},
   "outputs": [],
   "source": [
    "words_df.loc[words_df[\"country\"].isin([\"Serbia\", \"Yugoslavia\", \"Serbia and Montenegro\"]), \"iso3\"] = \"SRB\"\n",
    "words_df.loc[words_df[\"country\"]==\"Monaco\", \"iso3\"] = \"MCO\"\n",
    "words_df.loc[words_df[\"country\"]==\"Liechtenstein\", \"iso3\"] = \"LIE\"\n",
    "words_df.loc[words_df[\"country\"]==\"Kosovo\", \"iso3\"] = \"XKX\"\n",
    "words_df.loc[words_df[\"country\"]==\"Taiwan\", \"iso3\"] = \"TWN\"\n",
    "words_df.loc[words_df[\"country\"]==\"Vietnam\", \"iso3\"] = \"VNM\""
   ]
  },
  {
   "cell_type": "code",
   "execution_count": 13,
   "metadata": {},
   "outputs": [],
   "source": [
    "words_df.dropna(subset=[\"iso3\"], inplace=True)"
   ]
  },
  {
   "cell_type": "code",
   "execution_count": 14,
   "metadata": {},
   "outputs": [],
   "source": [
    "words_deeds = vdem.merge(words_df, left_on=[\"country_text_id\", \"year\"], right_on=[\"iso3\", \"year\"], how=\"inner\")\\\n",
    "    .drop(\"country_text_id\", axis=1)\\\n",
    "    .copy()"
   ]
  },
  {
   "cell_type": "code",
   "execution_count": 15,
   "metadata": {},
   "outputs": [],
   "source": [
    "country_col = words_deeds.pop(\"country\")\n",
    "iso_col = words_deeds.pop(\"iso3\")\n",
    "words_deeds.insert(0, \"country\", country_col)\n",
    "words_deeds.insert(1, \"iso3\", iso_col)"
   ]
  },
  {
   "cell_type": "code",
   "execution_count": 16,
   "metadata": {},
   "outputs": [],
   "source": [
    "words_deeds.dropna(inplace=True)"
   ]
  },
  {
   "cell_type": "code",
   "execution_count": 17,
   "metadata": {},
   "outputs": [],
   "source": [
    "words_deeds[\"deeds_total\"] = words_deeds[[electoral.vdem_index, liberal.vdem_index, egalitarian.vdem_index]].mean(axis=1)"
   ]
  },
  {
   "cell_type": "code",
   "execution_count": 18,
   "metadata": {},
   "outputs": [],
   "source": [
    "for dem_type in [electoral, liberal, egalitarian]:\n",
    "    words_deeds[f\"{dem_type.name}_diff\"] = words_deeds[dem_type.vdem_index] - words_deeds[dem_type.name]"
   ]
  },
  {
   "cell_type": "code",
   "execution_count": 19,
   "metadata": {},
   "outputs": [],
   "source": [
    "words_deeds.to_csv(\"./words_deeds/data/words_deeds_dataset.csv\", index=False)"
   ]
  }
 ],
 "metadata": {
  "language_info": {
   "name": "python"
  }
 },
 "nbformat": 4,
 "nbformat_minor": 2
}
